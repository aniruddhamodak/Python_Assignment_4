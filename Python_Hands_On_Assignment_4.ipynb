{
  "nbformat": 4,
  "nbformat_minor": 0,
  "metadata": {
    "colab": {
      "name": "Python Hands On Assignment 4.ipynb",
      "provenance": [],
      "authorship_tag": "ABX9TyPYdv1FYBMiiyHQYCvORKmK",
      "include_colab_link": true
    },
    "kernelspec": {
      "name": "python3",
      "display_name": "Python 3"
    }
  },
  "cells": [
    {
      "cell_type": "markdown",
      "metadata": {
        "id": "view-in-github",
        "colab_type": "text"
      },
      "source": [
        "<a href=\"https://colab.research.google.com/github/aniruddhamodak/Python_Assignment_4/blob/master/Python_Hands_On_Assignment_4.ipynb\" target=\"_parent\"><img src=\"https://colab.research.google.com/assets/colab-badge.svg\" alt=\"Open In Colab\"/></a>"
      ]
    },
    {
      "cell_type": "markdown",
      "metadata": {
        "id": "7icVf4FvTQBS",
        "colab_type": "text"
      },
      "source": [
        "## **1. Write a Python program which accepts the radius of a circle from the user and compute the area.**"
      ]
    },
    {
      "cell_type": "code",
      "metadata": {
        "id": "4djJ5weMS5XC",
        "colab_type": "code",
        "colab": {}
      },
      "source": [
        "import math as m"
      ],
      "execution_count": 0,
      "outputs": []
    },
    {
      "cell_type": "code",
      "metadata": {
        "id": "L0jBZUPgTj8d",
        "colab_type": "code",
        "outputId": "f2b900f5-70ae-4a23-c459-3ea6a7ad0702",
        "colab": {
          "base_uri": "https://localhost:8080/",
          "height": 52
        }
      },
      "source": [
        "R = float(input(\"Enter Radius Of Cicle in Cm:- \"))\n",
        "Area = m.pi*R**2\n",
        "print(\"Area of a Circle of Radius \", R , \"is\", Area , \"Sq.cm\")"
      ],
      "execution_count": 0,
      "outputs": [
        {
          "output_type": "stream",
          "text": [
            "Enter Radius Of Cicle in Cm:- 10\n",
            "Area of a Circle of Radius  10.0 is 314.1592653589793 Sq.cm\n"
          ],
          "name": "stdout"
        }
      ]
    },
    {
      "cell_type": "markdown",
      "metadata": {
        "id": "B_q7memKVHFD",
        "colab_type": "text"
      },
      "source": [
        "## **2. Write a Python program which accepts the user's first and last name and print them in reverse order with a space between them.**"
      ]
    },
    {
      "cell_type": "code",
      "metadata": {
        "id": "O4CBnzc2U5Zx",
        "colab_type": "code",
        "outputId": "b486de44-cd52-4ecd-a005-d5683f2d8c6a",
        "colab": {
          "base_uri": "https://localhost:8080/",
          "height": 69
        }
      },
      "source": [
        "Name_1 = input(\"Enter your First Name :-\" )\n",
        "Name_2 = input(\"Enter your Last Name :- \")\n",
        "Name = Name_2 + \"  \" + Name_1 \n",
        "print (Name)"
      ],
      "execution_count": 0,
      "outputs": [
        {
          "output_type": "stream",
          "text": [
            "Enter your First Name :-Aniruddha\n",
            "Enter your Last Name :- Modak\n",
            "Modak  Aniruddha\n"
          ],
          "name": "stdout"
        }
      ]
    },
    {
      "cell_type": "markdown",
      "metadata": {
        "id": "zSnIIxuEWWNZ",
        "colab_type": "text"
      },
      "source": [
        "## **3. Write a Python program which checks if the input number is divisible by 3 or not.**"
      ]
    },
    {
      "cell_type": "code",
      "metadata": {
        "id": "_AlZhmPTV2gR",
        "colab_type": "code",
        "outputId": "e2c202dc-3e00-4cf5-f020-dafa84a2aff9",
        "colab": {
          "base_uri": "https://localhost:8080/",
          "height": 52
        }
      },
      "source": [
        "num = float(input(\"input any number :- \")) #Taking input as a float\n",
        "if num%3 == 0:\n",
        "  print(\"Entered number is divisible by 3\")\n",
        "else :\n",
        "  print (\"Enter number is not divisible by 3\")"
      ],
      "execution_count": 0,
      "outputs": [
        {
          "output_type": "stream",
          "text": [
            "input any number :- 45\n",
            "Entered number is divisible by 3\n"
          ],
          "name": "stdout"
        }
      ]
    },
    {
      "cell_type": "markdown",
      "metadata": {
        "id": "TFYiKkTOXFb8",
        "colab_type": "text"
      },
      "source": [
        "## **4. Write a Python program to implement 5 functions of the math module (other than what was taught in the session).**"
      ]
    },
    {
      "cell_type": "code",
      "metadata": {
        "id": "hJJDhmUFW8FF",
        "colab_type": "code",
        "outputId": "7c95a12d-ede0-4525-f7bf-1aed0b9bbaee",
        "colab": {
          "base_uri": "https://localhost:8080/",
          "height": 156
        }
      },
      "source": [
        "num1 = float(input(\"Input any number:- \"))\n",
        "degrees = m.degrees(num1) #Input is in radians output will be in degrees.\n",
        "cosine = m.cos(num1) #Find cosine of angle\n",
        "exp = m.exp(num1) # Returns e raised to power\n",
        "print(\"Conevrsion of  \", num1 ,\" in degree is:- \", degrees)\n",
        "print(\"Cosine of \", num1 ,\" is :- \",cosine)\n",
        "print(\"Exponentional of  \", num1 ,\" is :- \",exp)\n",
        "\n",
        "num4 = int(num1)\n",
        "factorial = m.factorial(num4) # Shows the Factorial of a number.\n",
        "print (\"Factorial of \", num4, \" in integer format is :- \", factorial)\n",
        "\n",
        "num2 = int(input(\"input 1nd number to find gcd:- \"))\n",
        "num3 = int(input(\"input 2nd number to find gcd:-\" ))\n",
        "gcd = m.gcd(num2,num3) #gives Greatest common divisor of 2 interger values\n",
        "print(\"GCD of \", num2, \" & \", num3, \" is \", gcd)"
      ],
      "execution_count": 0,
      "outputs": [
        {
          "output_type": "stream",
          "text": [
            "Input any number:- 5\n",
            "Conevrsion of   5.0  in degree is:-  286.4788975654116\n",
            "Cosine of  5.0  is :-  0.28366218546322625\n",
            "Exponentional of   5.0  is :-  148.4131591025766\n",
            "Factorial of  5  in integer format is :-  120\n",
            "input 1nd number to find gcd:- 90\n",
            "input 2nd number to find gcd:-6\n",
            "GCD of  90  &  6  is  6\n"
          ],
          "name": "stdout"
        }
      ]
    },
    {
      "cell_type": "markdown",
      "metadata": {
        "id": "GVlTmrLCkXVZ",
        "colab_type": "text"
      },
      "source": [
        "## **5. WAP to do a sum of squares of first n natural number**\n"
      ]
    },
    {
      "cell_type": "code",
      "metadata": {
        "id": "uZiS4pmoX5wy",
        "colab_type": "code",
        "outputId": "032b9a36-7e3e-4a09-ce14-e759acc11d2a",
        "colab": {
          "base_uri": "https://localhost:8080/",
          "height": 87
        }
      },
      "source": [
        "n = int(input(\"Upto which number :- \")) #Taken input from user\n",
        "import numpy as np\n",
        "\n",
        "numbers = np.arange(1,n+1)  #Printing numbers inputed by user\n",
        "print(\"Numbers are:- \", numbers)\n",
        "sq_num = np.square(numbers) #Making square of inputed number array\n",
        "print(\"Squre of Inputed numbers\" , sq_num)\n",
        "\n",
        "Sum = 0\n",
        "for i in range(0,len(sq_num)):\n",
        "  Sum = Sum + sq_num[i]\n",
        "print (\"Sum of Square of first\", n , \"natural number is:- \" , Sum)"
      ],
      "execution_count": 0,
      "outputs": [
        {
          "output_type": "stream",
          "text": [
            "Upto which number :- 3\n",
            "Numbers are:-  [1 2 3]\n",
            "Squre of Inputed numbers [1 4 9]\n",
            "Sum of Square of first 3 natural number is:-  14\n"
          ],
          "name": "stdout"
        }
      ]
    },
    {
      "cell_type": "markdown",
      "metadata": {
        "id": "Pf2TUYYPu2_c",
        "colab_type": "text"
      },
      "source": [
        "## **6. Write a void function that receives a 4 digit number and calculates the sum of squares of first 2 digits number and last two-digit number (Hint:- if 1233 is passed as an argument then the function should calculate 12 square + 33 square)**"
      ]
    },
    {
      "cell_type": "code",
      "metadata": {
        "id": "R1FM_TFDgpW0",
        "colab_type": "code",
        "outputId": "bc9d505d-ab1b-4a8a-8ce2-4ce676f77372",
        "colab": {
          "base_uri": "https://localhost:8080/",
          "height": 52
        }
      },
      "source": [
        "number = input(\"Enter 4 digit number:- \")\n",
        "num1 = number[0]+number[1]\n",
        "num2 = number[2]+number[3]\n",
        "num1 = int(num1)\n",
        "num1 = num1**2\n",
        "num2 = int(num2)\n",
        "num2 = num2**2\n",
        "print(\"Addition of \", num1, \"And\",num2, \"is\", num1+num2)"
      ],
      "execution_count": 0,
      "outputs": [
        {
          "output_type": "stream",
          "text": [
            "Enter 4 digit number:- 8976\n",
            "Addition of  7921 And 5776 is 13697\n"
          ],
          "name": "stdout"
        }
      ]
    },
    {
      "cell_type": "code",
      "metadata": {
        "id": "OfUZ7A4MkTPx",
        "colab_type": "code",
        "outputId": "ca2afe96-29c0-48c7-b7f0-741d4950e4f4",
        "colab": {
          "base_uri": "https://localhost:8080/",
          "height": 52
        }
      },
      "source": [
        "number = input(\"Enter 4 digit number:- \")\n",
        "num1 = int(number[0:2])\n",
        "num2 = int(number[2:])\n",
        "print(\"Addition of squares of\", num1, \"&\", num2, \"=\", num1**2+num2**2)\n",
        "\n"
      ],
      "execution_count": 0,
      "outputs": [
        {
          "output_type": "stream",
          "text": [
            "Enter 4 digit number:- 1234\n",
            "Addition of squares of 12 & 34 = 1300\n"
          ],
          "name": "stdout"
        }
      ]
    },
    {
      "cell_type": "markdown",
      "metadata": {
        "id": "6YuISZUOp-NQ",
        "colab_type": "text"
      },
      "source": [
        "## **7. Write a function that takes one argument (a +ve int) and report if the argument is prime or not.WAP that invokes this function.**"
      ]
    },
    {
      "cell_type": "code",
      "metadata": {
        "id": "9KG3WNzfntSp",
        "colab_type": "code",
        "colab": {}
      },
      "source": [
        "import numpy as np"
      ],
      "execution_count": 0,
      "outputs": []
    },
    {
      "cell_type": "code",
      "metadata": {
        "id": "Lch5pB7maFxT",
        "colab_type": "code",
        "outputId": "769a7623-6a64-40ae-acc5-c463f83f95f7",
        "colab": {
          "base_uri": "https://localhost:8080/",
          "height": 52
        }
      },
      "source": [
        "def is_prime(num): #defining user defiened function\n",
        "  nums = np.arange(2,num) #making a list of number upto the given input from user.\n",
        "  list(nums)\n",
        "  # print(nums)\n",
        "  for i in nums:\n",
        "    if num%i == 0:\n",
        "      print(num, \" is not a Prime number\")\n",
        "      break\n",
        "  else:\n",
        "    print(num,\" is a Prime Number\")\n",
        "\n",
        "\n",
        "num=int(input(\"Enter a number:- \"))\n",
        "if num == 1:\n",
        "  print(num, \"is a not a prime number\")\n",
        "elif num<1:\n",
        "  print(\"Enter a positive integer\")\n",
        "else:\n",
        "  is_prime(num)\n"
      ],
      "execution_count": 0,
      "outputs": [
        {
          "output_type": "stream",
          "text": [
            "Enter a number:- 1\n",
            "1 is a not a prime number\n"
          ],
          "name": "stdout"
        }
      ]
    },
    {
      "cell_type": "markdown",
      "metadata": {
        "id": "TdonZCE89e3d",
        "colab_type": "text"
      },
      "source": [
        "## **8. WAP that takes a character (i.e a string of length 1) and returns TRUE if it is a vowel, FALSE otherwise. (Hint: Make use of logical operator)**"
      ]
    },
    {
      "cell_type": "code",
      "metadata": {
        "id": "BUytI9fY1l5n",
        "colab_type": "code",
        "outputId": "aaaef5c6-5d52-4111-ecc8-f0feda74d6c5",
        "colab": {
          "base_uri": "https://localhost:8080/",
          "height": 52
        }
      },
      "source": [
        "vovels = ['a', 'e', 'i', 'o', 'u']\n",
        "char = input(\"Enter a singel character:- \")\n",
        "for i in vovels:\n",
        "  if char in vovels:\n",
        "    print(True, char, \" is a Vovel\")\n",
        "    break\n",
        "  elif char not in vovels:\n",
        "    print(False, char, \" is not a vovel\")\n",
        "    break"
      ],
      "execution_count": 0,
      "outputs": [
        {
          "output_type": "stream",
          "text": [
            "Enter a singel character:- k\n",
            "False k  is not a vovel\n"
          ],
          "name": "stdout"
        }
      ]
    },
    {
      "cell_type": "code",
      "metadata": {
        "id": "0sGP1V5kt6AW",
        "colab_type": "code",
        "colab": {
          "base_uri": "https://localhost:8080/",
          "height": 68
        },
        "outputId": "5eb5f940-614d-4e81-8784-389ae08fee13"
      },
      "source": [
        "vovels = ['a', 'e', 'i', 'o', 'u']\n",
        "char = input(\"Enter a singel character:- \")\n",
        "ans = char in vovels\n",
        "print(ans)\n",
        "if ans == True:\n",
        "  print(char, \" is a vovel\")\n",
        "else:\n",
        "  print(char, \"is not vovel\")"
      ],
      "execution_count": 5,
      "outputs": [
        {
          "output_type": "stream",
          "text": [
            "Enter a singel character:- a\n",
            "True\n",
            "a  is a vovel\n"
          ],
          "name": "stdout"
        }
      ]
    },
    {
      "cell_type": "code",
      "metadata": {
        "id": "k4_9aabIt58r",
        "colab_type": "code",
        "colab": {}
      },
      "source": [
        ""
      ],
      "execution_count": 0,
      "outputs": []
    },
    {
      "cell_type": "markdown",
      "metadata": {
        "id": "SFAnIFsnB-As",
        "colab_type": "text"
      },
      "source": [
        "## **9. WAP to get the last digit cube.**"
      ]
    },
    {
      "cell_type": "code",
      "metadata": {
        "id": "j1NX_F-d9uff",
        "colab_type": "code",
        "outputId": "e93d3c26-abd3-478c-a372-f82ee3a3f4bd",
        "colab": {
          "base_uri": "https://localhost:8080/",
          "height": 52
        }
      },
      "source": [
        "numb = input(\"Enter a number:- \")\n",
        "digit = int(numb[-1])\n",
        "print(\"Cube of last digit \", digit, \" is \", digit**3)"
      ],
      "execution_count": 0,
      "outputs": [
        {
          "output_type": "stream",
          "text": [
            "Enter a number:- 783\n",
            "Cube of last digit  3  is  27\n"
          ],
          "name": "stdout"
        }
      ]
    },
    {
      "cell_type": "markdown",
      "metadata": {
        "id": "hmRwP0TxC65L",
        "colab_type": "text"
      },
      "source": [
        "## **10.Write a Python program that takes a list and returns a new list with unique elements of the first list.**"
      ]
    },
    {
      "cell_type": "code",
      "metadata": {
        "id": "RcUEIvZyHRVT",
        "colab_type": "code",
        "outputId": "93bf5bcd-9765-4fd1-aeb1-e0f1550aac8e",
        "colab": {
          "base_uri": "https://localhost:8080/",
          "height": 52
        }
      },
      "source": [
        "list1 = list(input(\"Enter a List:- \"))\n",
        "# print(list1)\n",
        "unique_list = []\n",
        "for i in list1:\n",
        "  if i not in unique_list:\n",
        "    unique_list.append(i)\n",
        "print(\"Unique List is = \", unique_list)\n"
      ],
      "execution_count": 0,
      "outputs": [
        {
          "output_type": "stream",
          "text": [
            "Enter a List:- aniruddha sunil modak\n",
            "Unique List is =  ['a', 'n', 'i', 'r', 'u', 'd', 'h', ' ', 's', 'l', 'm', 'o', 'k']\n"
          ],
          "name": "stdout"
        }
      ]
    },
    {
      "cell_type": "code",
      "metadata": {
        "id": "IVb-JcaoHhfn",
        "colab_type": "code",
        "colab": {}
      },
      "source": [
        ""
      ],
      "execution_count": 0,
      "outputs": []
    }
  ]
}